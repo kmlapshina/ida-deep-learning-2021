{
 "cells": [
  {
   "cell_type": "markdown",
   "metadata": {
    "cell_id": 1,
    "id": "kr9vAeEQlRVG"
   },
   "source": [
    "# Домашнее задание 2. Классификация изображений."
   ]
  },
  {
   "cell_type": "markdown",
   "metadata": {
    "cell_id": 3,
    "id": "BxX49gLclRVJ"
   },
   "source": [
    "В этом задании потребуется обучить классификатор изображений. Будем работать с датасетом, название которого раскрывать не будем. Можете посмотреть самостоятельно на картинки, которые в есть датасете. В нём 200 классов и около 5 тысяч картинок на каждый класс. Классы пронумерованы, как нетрудно догадаться, от 0 до 199. Скачать датасет можно вот [тут](https://yadi.sk/d/BNR41Vu3y0c7qA).\n",
    "\n",
    "Структура датасета простая -- есть директории train/ и val/, в которых лежат обучающие и валидационные данные. В train/ и val/ лежат директориии, соответствующие классам изображений, в которых лежат, собственно, сами изображения.\n",
    " \n",
    "__Задание__. Необходимо выполнить любое из двух заданий\n",
    "\n",
    "1) Добейтесь accuracy **на валидации не менее 0.44**. В этом задании **запрещено** пользоваться предобученными моделями и ресайзом картинок. \n",
    "\n",
    "2) Добейтесь accuracy **на валидации не менее 0.84**. В этом задании делать ресайз и использовать претрейн можно. \n",
    "\n",
    "Напишите краткий отчёт о проделанных экспериментах. Что сработало и что не сработало? Почему вы решили, сделать так, а не иначе? Обязательно указывайте ссылки на чужой код, если вы его используете. Обязательно ссылайтесь на статьи / блогпосты / вопросы на stackoverflow / видосы от ютуберов-машинлернеров / курсы / подсказки от Дяди Васи и прочие дополнительные материалы, если вы их используете. \n",
    "\n",
    "Ваш код обязательно должен проходить все `assert`'ы ниже.\n",
    "\n",
    "Необходимо написать функции `train_one_epoch`, `train` и `predict` по шаблонам ниже (во многом повторяют примеры с семинаров).Обратите особое внимание на функцию `predict`: она должна возвращать список лоссов по всем объектам даталоадера, список предсказанных классов для каждого объекта из даталоалера и список настоящих классов для каждого объекта в даталоадере (и именно в таком порядке).\n",
    "\n",
    "__Использовать внешние данные для обучения строго запрещено в обоих заданиях. Также запрещено обучаться на валидационной выборке__.\n",
    "\n",
    "\n",
    "__Критерии оценки__: Оценка вычисляется по простой формуле: `min(10, 10 * Ваша accuracy / 0.44)` для первого задания и `min(10, 10 * (Ваша accuracy - 0.5) / 0.34)` для второго. Оценка округляется до десятых по арифметическим правилам. Если вы выполнили оба задания, то берется максимум из двух оценок.\n",
    "\n",
    "__Бонус__. Вы получаете 5 бонусных баллов если справляетесь с обоими заданиями на 10 баллов (итого 15 баллов). В противном случае выставляется максимальная из двух оценок и ваш бонус равен нулю.\n",
    "\n",
    "__Советы и указания__:\n",
    " - Наверняка вам потребуется много гуглить о классификации и о том, как заставить её работать. Это нормально, все гуглят. Но не забывайте, что нужно быть готовым за скатанный код отвечать :)\n",
    " - Используйте аугментации. Для этого пользуйтесь модулем `torchvision.transforms` или библиотекой [albumentations](https://github.com/albumentations-team/albumentations)\n",
    " - Можно обучать с нуля или файнтюнить (в зависимости от задания) модели из `torchvision`.\n",
    " - Рекомендуем написать вам сначала класс-датасет (или воспользоваться классом `ImageFolder`), который возвращает картинки и соответствующие им классы, а затем функции для трейна по шаблонам ниже. Однако делать это мы не заставляем. Если вам так неудобно, то можете писать код в удобном стиле. Однако учтите, что чрезмерное изменение нижеперечисленных шаблонов увеличит количество вопросов к вашему коду и повысит вероятность вызова на защиту :)\n",
    " - Валидируйте. Трекайте ошибки как можно раньше, чтобы не тратить время впустую.\n",
    " - Чтобы быстро отладить код, пробуйте обучаться на маленькой части датасета (скажем, 5-10 картинок просто чтобы убедиться что код запускается). Когда вы поняли, что смогли всё отдебажить, переходите обучению по всему датасету\n",
    " - На каждый запуск делайте ровно одно изменение в модели/аугментации/оптимайзере, чтобы понять, что и как влияет на результат.\n",
    " - Фиксируйте random seed.\n",
    " - Начинайте с простых моделей и постепенно переходите к сложным. Обучение лёгких моделей экономит много времени.\n",
    " - Ставьте расписание на learning rate. Уменьшайте его, когда лосс на валидации перестаёт убывать.\n",
    " - Советуем использовать GPU. Если у вас его нет, используйте google colab. Если вам неудобно его использовать на постоянной основе, напишите и отладьте весь код локально на CPU, а затем запустите уже написанный ноутбук в колабе. Авторское решение задания достигает требуемой точности в колабе за 15 минут обучения.\n",
    " \n",
    "Good luck & have fun! :)"
   ]
  },
  {
   "cell_type": "code",
   "execution_count": 1,
   "metadata": {
    "cell_id": 4,
    "execution": {
     "iopub.execute_input": "2021-11-21T17:55:59.085049Z",
     "iopub.status.busy": "2021-11-21T17:55:59.084661Z",
     "iopub.status.idle": "2021-11-21T17:56:00.381533Z",
     "shell.execute_reply": "2021-11-21T17:56:00.380473Z",
     "shell.execute_reply.started": "2021-11-21T17:55:59.084935Z"
    },
    "id": "LKcSNj4tlRVK"
   },
   "outputs": [],
   "source": [
    "import numpy as np\n",
    "import torch\n",
    "import torchvision\n",
    "import tqdm\n",
    "from torch import nn\n",
    "from torch.nn import functional as F\n",
    "from sklearn.metrics import accuracy_score\n",
    "import random\n",
    "import sys\n",
    "from tqdm.auto import tqdm\n",
    "from matplotlib import pyplot as plt"
   ]
  },
  {
   "cell_type": "code",
   "execution_count": 2,
   "metadata": {
    "execution": {
     "iopub.execute_input": "2021-11-21T17:56:00.384319Z",
     "iopub.status.busy": "2021-11-21T17:56:00.383692Z",
     "iopub.status.idle": "2021-11-21T17:56:00.392393Z",
     "shell.execute_reply": "2021-11-21T17:56:00.391588Z",
     "shell.execute_reply.started": "2021-11-21T17:56:00.384273Z"
    }
   },
   "outputs": [],
   "source": [
    "def set_random_seed(seed):\n",
    "    torch.backends.cudnn.deterministic = True\n",
    "    torch.manual_seed(seed)\n",
    "    torch.cuda.manual_seed(seed)\n",
    "    np.random.seed(seed)\n",
    "    random.seed(seed)"
   ]
  },
  {
   "cell_type": "markdown",
   "metadata": {
    "id": "RytEDW0ylRVN"
   },
   "source": [
    "### Подготовка данных"
   ]
  },
  {
   "cell_type": "code",
   "execution_count": 3,
   "metadata": {
    "execution": {
     "iopub.execute_input": "2021-11-21T17:56:00.394643Z",
     "iopub.status.busy": "2021-11-21T17:56:00.394051Z",
     "iopub.status.idle": "2021-11-21T17:56:00.446224Z",
     "shell.execute_reply": "2021-11-21T17:56:00.445131Z",
     "shell.execute_reply.started": "2021-11-21T17:56:00.394603Z"
    }
   },
   "outputs": [
    {
     "name": "stderr",
     "output_type": "stream",
     "text": [
      "/opt/conda/lib/python3.7/site-packages/torchvision/transforms/transforms.py:281: UserWarning: Argument interpolation should be of type InterpolationMode instead of int. Please, use InterpolationMode enum.\n",
      "  \"Argument interpolation should be of type InterpolationMode instead of int. \"\n"
     ]
    }
   ],
   "source": [
    "import cv2\n",
    "from torchvision.datasets import ImageFolder\n",
    "from torchvision.transforms import (Compose, Normalize, Resize, \n",
    "ToTensor, RandomHorizontalFlip, RandomRotation)\n",
    "\n",
    "mean_img = [0.4802, 0.4481, 0.3975]\n",
    "std_img = [0.2302, 0.2265, 0.2262]\n",
    "\n",
    "train_transform = Compose(\n",
    "        [Resize((224, 224), interpolation = cv2.INTER_CUBIC), \n",
    "         RandomRotation(10), \n",
    "         RandomHorizontalFlip(p=0.75),\n",
    "         ToTensor(), \n",
    "         Normalize(mean_img, std_img)])\n",
    "\n",
    "val_transform = Compose(\n",
    "        [Resize((224, 224)), \n",
    "            ToTensor(), Normalize(mean_img, std_img)])"
   ]
  },
  {
   "cell_type": "code",
   "execution_count": 4,
   "metadata": {
    "execution": {
     "iopub.execute_input": "2021-11-21T17:56:00.451605Z",
     "iopub.status.busy": "2021-11-21T17:56:00.449563Z",
     "iopub.status.idle": "2021-11-21T17:56:01.388259Z",
     "shell.execute_reply": "2021-11-21T17:56:01.387230Z",
     "shell.execute_reply.started": "2021-11-21T17:56:00.451556Z"
    }
   },
   "outputs": [],
   "source": [
    "train_dataset = ImageFolder(\n",
    "    '../input/idadlhw2data/dataset/dataset/train', \n",
    "    transform = train_transform)\n",
    "\n",
    "val_dataset = ImageFolder(\n",
    "    '../input/idadlhw2data/dataset/dataset/val', \n",
    "    transform = val_transform)"
   ]
  },
  {
   "cell_type": "code",
   "execution_count": 5,
   "metadata": {
    "execution": {
     "iopub.execute_input": "2021-11-21T17:56:01.390570Z",
     "iopub.status.busy": "2021-11-21T17:56:01.390234Z",
     "iopub.status.idle": "2021-11-21T17:56:01.397877Z",
     "shell.execute_reply": "2021-11-21T17:56:01.396522Z",
     "shell.execute_reply.started": "2021-11-21T17:56:01.390529Z"
    }
   },
   "outputs": [],
   "source": [
    "train_dataloader = torch.utils.data.DataLoader(train_dataset, batch_size=32, shuffle=True)\n",
    "val_dataloader = torch.utils.data.DataLoader(val_dataset, batch_size=32, shuffle=False)"
   ]
  },
  {
   "cell_type": "code",
   "execution_count": 6,
   "metadata": {
    "execution": {
     "iopub.execute_input": "2021-11-21T17:56:01.400758Z",
     "iopub.status.busy": "2021-11-21T17:56:01.400019Z",
     "iopub.status.idle": "2021-11-21T17:56:02.168223Z",
     "shell.execute_reply": "2021-11-21T17:56:02.167263Z",
     "shell.execute_reply.started": "2021-11-21T17:56:01.400709Z"
    }
   },
   "outputs": [
    {
     "data": {
      "image/png": "[encoded data removed]",
      "text/plain": [
       "<Figure size 432x288 with 1 Axes>"
      ]
     },
     "metadata": {
      "needs_background": "light"
     },
     "output_type": "display_data"
    }
   ],
   "source": [
    "# Random pic\n",
    "import glob\n",
    "import matplotlib.pyplot as plt\n",
    "\n",
    "file = np.random.choice(glob.glob(\"../input/idadlhw2data/dataset/dataset/train/*/*.jpg\"))\n",
    "plt.imshow(plt.imread(file));"
   ]
  },
  {
   "cell_type": "code",
   "execution_count": 7,
   "metadata": {
    "cell_id": 6,
    "execution": {
     "iopub.execute_input": "2021-11-21T17:56:02.170588Z",
     "iopub.status.busy": "2021-11-21T17:56:02.170128Z",
     "iopub.status.idle": "2021-11-21T17:56:02.191796Z",
     "shell.execute_reply": "2021-11-21T17:56:02.190757Z",
     "shell.execute_reply.started": "2021-11-21T17:56:02.170477Z"
    },
    "id": "mrg4Yj0VlRVP"
   },
   "outputs": [
    {
     "name": "stdout",
     "output_type": "stream",
     "text": [
      "tests passed\n"
     ]
    }
   ],
   "source": [
    "# Just very simple sanity checks\n",
    "assert isinstance(train_dataset[0], tuple)\n",
    "assert len(train_dataset[0]) == 2\n",
    "assert isinstance(train_dataset[1][1], int)\n",
    "print(\"tests passed\")"
   ]
  },
  {
   "cell_type": "markdown",
   "metadata": {
    "id": "8RlSlmyjlRVP"
   },
   "source": [
    "### Вспомогательные функции, реализация модели"
   ]
  },
  {
   "cell_type": "code",
   "execution_count": 8,
   "metadata": {
    "execution": {
     "iopub.execute_input": "2021-11-21T17:56:02.194274Z",
     "iopub.status.busy": "2021-11-21T17:56:02.193156Z",
     "iopub.status.idle": "2021-11-21T17:56:02.201786Z",
     "shell.execute_reply": "2021-11-21T17:56:02.200404Z",
     "shell.execute_reply.started": "2021-11-21T17:56:02.194215Z"
    }
   },
   "outputs": [],
   "source": [
    "set_random_seed(2)"
   ]
  },
  {
   "cell_type": "code",
   "execution_count": 9,
   "metadata": {
    "execution": {
     "iopub.execute_input": "2021-11-21T17:56:02.205937Z",
     "iopub.status.busy": "2021-11-21T17:56:02.205590Z",
     "iopub.status.idle": "2021-11-21T17:56:02.227369Z",
     "shell.execute_reply": "2021-11-21T17:56:02.226279Z",
     "shell.execute_reply.started": "2021-11-21T17:56:02.205874Z"
    }
   },
   "outputs": [],
   "source": [
    "def train_epoch(\n",
    "    model,\n",
    "    data_loader,\n",
    "    optimizer,\n",
    "    criterion,\n",
    "    return_losses=False,\n",
    "    device=\"cuda:0\",\n",
    "):\n",
    "    model = model.to(device).train()\n",
    "    total_loss = 0\n",
    "    num_batches = 0\n",
    "    all_losses = []\n",
    "    total_predictions = np.array([])#.reshape((0, ))\n",
    "    total_labels = np.array([])#.reshape((0, ))\n",
    "    with tqdm(total=len(data_loader), file=sys.stdout) as prbar:\n",
    "        for images, labels in data_loader:\n",
    "            # Move Batch to GPU\n",
    "            images = images.to(device)\n",
    "            labels = labels.to(device)\n",
    "            predicted = model(images)\n",
    "            loss = criterion(predicted, labels)\n",
    "            # Update weights\n",
    "            loss.backward()\n",
    "            optimizer.step()\n",
    "            optimizer.zero_grad()\n",
    "            # Update descirption for tqdm\n",
    "            accuracy = (predicted.argmax(1) == labels).float().mean()\n",
    "            prbar.set_description(\n",
    "                f\"Loss: {round(loss.item(), 4)} \"\n",
    "                f\"Accuracy: {round(accuracy.item() * 100, 4)}\"\n",
    "            )\n",
    "            prbar.update(1)\n",
    "            total_loss += loss.item()\n",
    "            total_predictions = np.append(total_predictions, predicted.argmax(1).cpu().detach().numpy())\n",
    "            total_labels = np.append(total_labels, labels.cpu().detach().numpy())\n",
    "            num_batches += 1\n",
    "            all_losses.append(loss.detach().item())\n",
    "    epoch_loss = total_loss / num_batches\n",
    "    epoch_accuracy = (total_predictions == total_labels).mean()\n",
    "    if return_losses:\n",
    "        return epoch_accuracy, epoch_loss, all_losses\n",
    "    else:\n",
    "        return epoch_accuracy, epoch_loss\n",
    "\n",
    "\n",
    "def validate(model, data_loader, criterion, device=\"cuda:0\"):\n",
    "    model = model.eval()\n",
    "    total_loss = 0\n",
    "    num_batches = 0\n",
    "    total_predictions = np.array([])\n",
    "    total_labels = np.array([])\n",
    "    with tqdm(total=len(data_loader), file=sys.stdout) as prbar:\n",
    "        for images, labels in data_loader:\n",
    "            images = images.to(device)\n",
    "            labels = labels.to(device)\n",
    "            predicted = model(images)\n",
    "            loss = criterion(predicted, labels)\n",
    "            accuracy = (predicted.argmax(1) == labels).float().mean()\n",
    "            prbar.set_description(\n",
    "                f\"Loss: {round(loss.item(), 4)} \"\n",
    "                f\"Accuracy: {round(accuracy.item() * 100, 4)}\"\n",
    "            )\n",
    "            prbar.update(1)\n",
    "            total_loss += loss.item()\n",
    "            total_predictions = np.append(total_predictions, predicted.argmax(1).cpu().detach().numpy())\n",
    "            total_labels = np.append(total_labels, labels.cpu().detach().numpy())\n",
    "            num_batches += 1\n",
    "    val_loss = total_loss / num_batches\n",
    "    val_accuracy = (total_predictions == total_labels).mean()\n",
    "    return val_accuracy, val_loss"
   ]
  },
  {
   "cell_type": "code",
   "execution_count": 10,
   "metadata": {
    "execution": {
     "iopub.execute_input": "2021-11-21T17:56:02.232165Z",
     "iopub.status.busy": "2021-11-21T17:56:02.231796Z",
     "iopub.status.idle": "2021-11-21T17:56:02.250718Z",
     "shell.execute_reply": "2021-11-21T17:56:02.249437Z",
     "shell.execute_reply.started": "2021-11-21T17:56:02.232135Z"
    }
   },
   "outputs": [],
   "source": [
    "def fit(\n",
    "    model,\n",
    "    epochs,\n",
    "    train_data_loader,\n",
    "    val_data_loader,\n",
    "    optimizer,\n",
    "    criterion,\n",
    "    scheduler,\n",
    "    device=\"cuda:0\"\n",
    "):\n",
    "    all_train_losses = []\n",
    "    epoch_train_losses = []\n",
    "    epoch_eval_losses = []\n",
    "    train_accuracy = []\n",
    "    val_accuracy_scores = []\n",
    "    for epoch in range(epochs):\n",
    "        # Train step\n",
    "        print(f\"Train Epoch: {epoch}\")\n",
    "        epoch_accuracy, epoch_loss, one_epoch_train_losses = train_epoch(\n",
    "            model=model,\n",
    "            data_loader=train_data_loader,\n",
    "            optimizer=optimizer,\n",
    "            return_losses=True,\n",
    "            criterion=criterion,\n",
    "            device=device)\n",
    "        print('Train accuracy:', epoch_accuracy, '\\n\\n')\n",
    "        train_accuracy.append(epoch_accuracy)\n",
    "        \n",
    "        # Save Train losses\n",
    "        all_train_losses.append(one_epoch_train_losses)\n",
    "        epoch_train_losses.append(epoch_loss)\n",
    "        # Eval step\n",
    "        print(f\"Validation Epoch: {epoch}\")\n",
    "        with torch.no_grad():\n",
    "            val_accuracy, val_loss = validate(\n",
    "                model=model,\n",
    "                data_loader=val_data_loader,\n",
    "                criterion=criterion\n",
    "            )    \n",
    "        # Save eval losses\n",
    "        epoch_eval_losses.append(val_loss)\n",
    "        print('Val accuracy:', val_accuracy, '\\n\\n')\n",
    "        val_accuracy_scores.append(val_accuracy)\n",
    "        \n",
    "        scheduler.step(val_accuracy)\n",
    "        \n",
    "    #График для accuracy\n",
    "    steps = list(np.arange(n_epochs) + 1)\n",
    "    fig, ax = plt.subplots(figsize = (12,6))\n",
    "    train_graph, = ax.plot(steps, train_accuracy,'-o', color='k', label='Train accuracy')\n",
    "    val_graph, = ax.plot(steps, val_accuracy_scores, '-o', color='b', label='Val accuracy')\n",
    "    ax.legend(handles=[train_graph, val_graph])\n",
    "    plt.xlabel(\"Epoch\")\n",
    "    plt.ylabel(\"Accuracy\")\n",
    "    plt.title(\"Train and validation accuracy\")\n",
    "    plt.show()\n",
    "    \n",
    "    #График для Loss\n",
    "    fig, ax = plt.subplots(figsize = (12,6))\n",
    "    train_graph, = ax.plot(steps, epoch_train_losses,'-o', color='k', label='Train loss')\n",
    "    val_graph, = ax.plot(steps, epoch_eval_losses, '-o', color='b', label='Val loss')\n",
    "    ax.legend(handles=[train_graph, val_graph])\n",
    "    plt.xlabel(\"Epoch\")\n",
    "    plt.ylabel(\"Loss\")\n",
    "    plt.title(\"Train and validation Log loss\")\n",
    "    plt.show()"
   ]
  },
  {
   "cell_type": "code",
   "execution_count": 11,
   "metadata": {
    "execution": {
     "iopub.execute_input": "2021-11-21T17:56:02.253565Z",
     "iopub.status.busy": "2021-11-21T17:56:02.253196Z",
     "iopub.status.idle": "2021-11-21T17:56:02.270660Z",
     "shell.execute_reply": "2021-11-21T17:56:02.269423Z",
     "shell.execute_reply.started": "2021-11-21T17:56:02.253520Z"
    }
   },
   "outputs": [],
   "source": [
    "def predict(model, data_loader, criterion, device=\"cuda:0\"):\n",
    "    model = model.eval()\n",
    "    total_loss = 0\n",
    "    num_batches = 0\n",
    "    all_losses = []\n",
    "    total_predictions = np.array([])\n",
    "    total_labels = np.array([])\n",
    "    for images, labels in data_loader:\n",
    "        images = images.to(device)\n",
    "        labels = labels.to(device)\n",
    "        predicted = model(images)\n",
    "        loss = criterion(predicted, labels)\n",
    "        accuracy = (predicted.argmax(1) == labels).float().mean()\n",
    "        total_loss += loss.item()\n",
    "        all_losses.append(loss.item())\n",
    "        total_predictions = np.append(total_predictions, predicted.argmax(1).cpu().detach().numpy())\n",
    "        total_labels = np.append(total_labels, labels.cpu().detach().numpy())\n",
    "        num_batches += 1\n",
    "    pred_loss = total_loss / num_batches\n",
    "    pred_accuracy = (total_predictions == total_labels).mean()\n",
    "    print('Prediction Loss:', pred_loss, '\\n',\n",
    "          'Prediction Accuracy:', pred_accuracy, '\\n')\n",
    "    return all_losses, total_labels, total_predictions"
   ]
  },
  {
   "cell_type": "markdown",
   "metadata": {
    "id": "MxR3gfcilRVW"
   },
   "source": [
    "### Обучение модели, запуски экспериментов"
   ]
  },
  {
   "cell_type": "code",
   "execution_count": 12,
   "metadata": {
    "execution": {
     "iopub.execute_input": "2021-11-21T17:56:02.272268Z",
     "iopub.status.busy": "2021-11-21T17:56:02.272000Z",
     "iopub.status.idle": "2021-11-21T17:56:02.546191Z",
     "shell.execute_reply": "2021-11-21T17:56:02.545229Z",
     "shell.execute_reply.started": "2021-11-21T17:56:02.272225Z"
    }
   },
   "outputs": [],
   "source": [
    "# Model, fine tuning\n",
    "from torchvision.models import resnet18\n",
    "\n",
    "model = resnet18(pretrained=True)\n",
    "model.avgpool = nn.AdaptiveAvgPool2d(1)\n",
    "num_ftrs = model.fc.in_features\n",
    "model.fc = nn.Linear(num_ftrs, 200)"
   ]
  },
  {
   "cell_type": "code",
   "execution_count": 13,
   "metadata": {
    "cell_id": 8,
    "execution": {
     "iopub.execute_input": "2021-11-21T17:56:02.551020Z",
     "iopub.status.busy": "2021-11-21T17:56:02.550710Z",
     "iopub.status.idle": "2021-11-21T17:56:04.578061Z",
     "shell.execute_reply": "2021-11-21T17:56:04.576740Z",
     "shell.execute_reply.started": "2021-11-21T17:56:02.550962Z"
    },
    "id": "JXFJ6oS8lRVX",
    "scrolled": true
   },
   "outputs": [],
   "source": [
    "#optimizer = torch.optim.Adam(model.parameters(), 1e-4)\n",
    "optimizer = torch.optim.SGD(model.parameters(), lr=0.001, momentum=0.9)\n",
    "criterion = nn.CrossEntropyLoss()\n",
    "scheduler = torch.optim.lr_scheduler.ReduceLROnPlateau(optimizer, mode='max', patience=3)\n",
    "n_epochs = 8\n",
    "device = torch.device(\"cuda:0\") if torch.cuda.is_available() else torch.device(\"cpu\")\n",
    "model = model.to(device)"
   ]
  },
  {
   "cell_type": "code",
   "execution_count": 14,
   "metadata": {
    "execution": {
     "iopub.execute_input": "2021-11-21T17:56:04.580420Z",
     "iopub.status.busy": "2021-11-21T17:56:04.580106Z",
     "iopub.status.idle": "2021-11-21T19:13:58.563266Z",
     "shell.execute_reply": "2021-11-21T19:13:58.562241Z",
     "shell.execute_reply.started": "2021-11-21T17:56:04.580347Z"
    },
    "scrolled": false
   },
   "outputs": [
    {
     "name": "stdout",
     "output_type": "stream",
     "text": [
      "Train Epoch: 0\n"
     ]
    },
    {
     "data": {
      "application/vnd.jupyter.widget-view+json": {
       "model_id": "b80105f7c9a642a4bf3ff2e9ecbc30d4",
       "version_major": 2,
       "version_minor": 0
      },
      "text/plain": [
       "  0%|          | 0/3125 [00:00<?, ?it/s]"
      ]
     },
     "metadata": {},
     "output_type": "display_data"
    },
    {
     "name": "stdout",
     "output_type": "stream",
     "text": [
      "Train accuracy: 0.47188 \n",
      "\n",
      "\n",
      "Validation Epoch: 0\n"
     ]
    },
    {
     "data": {
      "application/vnd.jupyter.widget-view+json": {
       "model_id": "88c1734e04d8440794835bb47bb75f4d",
       "version_major": 2,
       "version_minor": 0
      },
      "text/plain": [
       "  0%|          | 0/313 [00:00<?, ?it/s]"
      ]
     },
     "metadata": {},
     "output_type": "display_data"
    },
    {
     "name": "stdout",
     "output_type": "stream",
     "text": [
      "Val accuracy: 0.6631 \n",
      "\n",
      "\n",
      "Train Epoch: 1\n"
     ]
    },
    {
     "data": {
      "application/vnd.jupyter.widget-view+json": {
       "model_id": "54488ab9cba2421ea2940d8cbeb05393",
       "version_major": 2,
       "version_minor": 0
      },
      "text/plain": [
       "  0%|          | 0/3125 [00:00<?, ?it/s]"
      ]
     },
     "metadata": {},
     "output_type": "display_data"
    },
    {
     "name": "stdout",
     "output_type": "stream",
     "text": [
      "Train accuracy: 0.67673 \n",
      "\n",
      "\n",
      "Validation Epoch: 1\n"
     ]
    },
    {
     "data": {
      "application/vnd.jupyter.widget-view+json": {
       "model_id": "92fbeea5fd76459cbe63b3e89758af59",
       "version_major": 2,
       "version_minor": 0
      },
      "text/plain": [
       "  0%|          | 0/313 [00:00<?, ?it/s]"
      ]
     },
     "metadata": {},
     "output_type": "display_data"
    },
    {
     "name": "stdout",
     "output_type": "stream",
     "text": [
      "Val accuracy: 0.7017 \n",
      "\n",
      "\n",
      "Train Epoch: 2\n"
     ]
    },
    {
     "data": {
      "application/vnd.jupyter.widget-view+json": {
       "model_id": "cb45bd8cc4414835bcc4b16520015547",
       "version_major": 2,
       "version_minor": 0
      },
      "text/plain": [
       "  0%|          | 0/3125 [00:00<?, ?it/s]"
      ]
     },
     "metadata": {},
     "output_type": "display_data"
    },
    {
     "name": "stdout",
     "output_type": "stream",
     "text": [
      "Train accuracy: 0.72884 \n",
      "\n",
      "\n",
      "Validation Epoch: 2\n"
     ]
    },
    {
     "data": {
      "application/vnd.jupyter.widget-view+json": {
       "model_id": "c5c5331626cd45e489a90c5b537bf504",
       "version_major": 2,
       "version_minor": 0
      },
      "text/plain": [
       "  0%|          | 0/313 [00:00<?, ?it/s]"
      ]
     },
     "metadata": {},
     "output_type": "display_data"
    },
    {
     "name": "stdout",
     "output_type": "stream",
     "text": [
      "Val accuracy: 0.7177 \n",
      "\n",
      "\n",
      "Train Epoch: 3\n"
     ]
    },
    {
     "data": {
      "application/vnd.jupyter.widget-view+json": {
       "model_id": "107b8ff2141d41138f80e6b2b443e82f",
       "version_major": 2,
       "version_minor": 0
      },
      "text/plain": [
       "  0%|          | 0/3125 [00:00<?, ?it/s]"
      ]
     },
     "metadata": {},
     "output_type": "display_data"
    },
    {
     "name": "stdout",
     "output_type": "stream",
     "text": [
      "Train accuracy: 0.76468 \n",
      "\n",
      "\n",
      "Validation Epoch: 3\n"
     ]
    },
    {
     "data": {
      "application/vnd.jupyter.widget-view+json": {
       "model_id": "ede26313842a46248d6d2ce65af12561",
       "version_major": 2,
       "version_minor": 0
      },
      "text/plain": [
       "  0%|          | 0/313 [00:00<?, ?it/s]"
      ]
     },
     "metadata": {},
     "output_type": "display_data"
    },
    {
     "name": "stdout",
     "output_type": "stream",
     "text": [
      "Val accuracy: 0.7181 \n",
      "\n",
      "\n",
      "Train Epoch: 4\n"
     ]
    },
    {
     "data": {
      "application/vnd.jupyter.widget-view+json": {
       "model_id": "bfd40296a9744707a4b25cf61aa5d224",
       "version_major": 2,
       "version_minor": 0
      },
      "text/plain": [
       "  0%|          | 0/3125 [00:00<?, ?it/s]"
      ]
     },
     "metadata": {},
     "output_type": "display_data"
    },
    {
     "name": "stdout",
     "output_type": "stream",
     "text": [
      "Train accuracy: 0.79433 \n",
      "\n",
      "\n",
      "Validation Epoch: 4\n"
     ]
    },
    {
     "data": {
      "application/vnd.jupyter.widget-view+json": {
       "model_id": "7d31f5211e8746db9a073c4176b5e5dd",
       "version_major": 2,
       "version_minor": 0
      },
      "text/plain": [
       "  0%|          | 0/313 [00:00<?, ?it/s]"
      ]
     },
     "metadata": {},
     "output_type": "display_data"
    },
    {
     "name": "stdout",
     "output_type": "stream",
     "text": [
      "Val accuracy: 0.728 \n",
      "\n",
      "\n",
      "Train Epoch: 5\n"
     ]
    },
    {
     "data": {
      "application/vnd.jupyter.widget-view+json": {
       "model_id": "fd4de8ce6f204f349fb14dc9c3bf602c",
       "version_major": 2,
       "version_minor": 0
      },
      "text/plain": [
       "  0%|          | 0/3125 [00:00<?, ?it/s]"
      ]
     },
     "metadata": {},
     "output_type": "display_data"
    },
    {
     "name": "stdout",
     "output_type": "stream",
     "text": [
      "Train accuracy: 0.82169 \n",
      "\n",
      "\n",
      "Validation Epoch: 5\n"
     ]
    },
    {
     "data": {
      "application/vnd.jupyter.widget-view+json": {
       "model_id": "dccdbd41f15b4ff995b33d730df764eb",
       "version_major": 2,
       "version_minor": 0
      },
      "text/plain": [
       "  0%|          | 0/313 [00:00<?, ?it/s]"
      ]
     },
     "metadata": {},
     "output_type": "display_data"
    },
    {
     "name": "stdout",
     "output_type": "stream",
     "text": [
      "Val accuracy: 0.7295 \n",
      "\n",
      "\n",
      "Train Epoch: 6\n"
     ]
    },
    {
     "data": {
      "application/vnd.jupyter.widget-view+json": {
       "model_id": "432d555300f64a31bf2158fa42c7150f",
       "version_major": 2,
       "version_minor": 0
      },
      "text/plain": [
       "  0%|          | 0/3125 [00:00<?, ?it/s]"
      ]
     },
     "metadata": {},
     "output_type": "display_data"
    },
    {
     "name": "stdout",
     "output_type": "stream",
     "text": [
      "Train accuracy: 0.84164 \n",
      "\n",
      "\n",
      "Validation Epoch: 6\n"
     ]
    },
    {
     "data": {
      "application/vnd.jupyter.widget-view+json": {
       "model_id": "99f7803e9e854d78b8586159d5ec2a4c",
       "version_major": 2,
       "version_minor": 0
      },
      "text/plain": [
       "  0%|          | 0/313 [00:00<?, ?it/s]"
      ]
     },
     "metadata": {},
     "output_type": "display_data"
    },
    {
     "name": "stdout",
     "output_type": "stream",
     "text": [
      "Val accuracy: 0.7286 \n",
      "\n",
      "\n",
      "Train Epoch: 7\n"
     ]
    },
    {
     "data": {
      "application/vnd.jupyter.widget-view+json": {
       "model_id": "75e2af23bdcd44f6b74c58528894bedc",
       "version_major": 2,
       "version_minor": 0
      },
      "text/plain": [
       "  0%|          | 0/3125 [00:00<?, ?it/s]"
      ]
     },
     "metadata": {},
     "output_type": "display_data"
    },
    {
     "name": "stdout",
     "output_type": "stream",
     "text": [
      "Train accuracy: 0.8638 \n",
      "\n",
      "\n",
      "Validation Epoch: 7\n"
     ]
    },
    {
     "data": {
      "application/vnd.jupyter.widget-view+json": {
       "model_id": "5199c09320ae4502a185d50719bdd9be",
       "version_major": 2,
       "version_minor": 0
      },
      "text/plain": [
       "  0%|          | 0/313 [00:00<?, ?it/s]"
      ]
     },
     "metadata": {},
     "output_type": "display_data"
    },
    {
     "name": "stdout",
     "output_type": "stream",
     "text": [
      "Val accuracy: 0.7326 \n",
      "\n",
      "\n"
     ]
    },
    {
     "data": {
      "image/png": "[encoded data removed]",
      "text/plain": [
       "<Figure size 864x432 with 1 Axes>"
      ]
     },
     "metadata": {
      "needs_background": "light"
     },
     "output_type": "display_data"
    },
    {
     "data": {
      "image/png": "[encoded data removed]",
      "text/plain": [
       "<Figure size 864x432 with 1 Axes>"
      ]
     },
     "metadata": {
      "needs_background": "light"
     },
     "output_type": "display_data"
    }
   ],
   "source": [
    "# Fitting the model\n",
    "fit(model, n_epochs, train_dataloader, val_dataloader, optimizer, criterion, scheduler, device=device)"
   ]
  },
  {
   "cell_type": "code",
   "execution_count": 15,
   "metadata": {
    "execution": {
     "iopub.execute_input": "2021-11-21T19:13:58.565431Z",
     "iopub.status.busy": "2021-11-21T19:13:58.564961Z",
     "iopub.status.idle": "2021-11-21T19:14:30.332176Z",
     "shell.execute_reply": "2021-11-21T19:14:30.331090Z",
     "shell.execute_reply.started": "2021-11-21T19:13:58.565360Z"
    }
   },
   "outputs": [
    {
     "name": "stdout",
     "output_type": "stream",
     "text": [
      "Prediction Loss: 1.0510844307067915 \n",
      " Prediction Accuracy: 0.7326 \n",
      "\n"
     ]
    }
   ],
   "source": [
    "# Predictions\n",
    "all_losses, predicted_labels, true_labels = predict(model, val_dataloader, criterion, device)"
   ]
  },
  {
   "cell_type": "markdown",
   "metadata": {
    "cell_id": 9,
    "id": "CesoOl6BlRVY"
   },
   "source": [
    "Простой тест на проверку правильности написанного кода"
   ]
  },
  {
   "cell_type": "code",
   "execution_count": 16,
   "metadata": {
    "cell_id": 10,
    "execution": {
     "iopub.execute_input": "2021-11-21T19:14:30.334064Z",
     "iopub.status.busy": "2021-11-21T19:14:30.333716Z",
     "iopub.status.idle": "2021-11-21T19:14:30.343217Z",
     "shell.execute_reply": "2021-11-21T19:14:30.341970Z",
     "shell.execute_reply.started": "2021-11-21T19:14:30.334032Z"
    },
    "id": "B_LB2jn6lRVY"
   },
   "outputs": [
    {
     "name": "stdout",
     "output_type": "stream",
     "text": [
      "tests passed\n"
     ]
    }
   ],
   "source": [
    "assert len(predicted_labels) == len(val_dataset)\n",
    "accuracy = accuracy_score(predicted_labels, true_labels)\n",
    "print(\"tests passed\")"
   ]
  },
  {
   "cell_type": "markdown",
   "metadata": {
    "id": "ImVW8_EXlRVZ"
   },
   "source": [
    "### Проверка полученной accuracy"
   ]
  },
  {
   "cell_type": "markdown",
   "metadata": {
    "cell_id": 13,
    "id": "FmR-elhJlRVZ"
   },
   "source": [
    "После всех экспериментов которые вы проделали, выберите лучшую из своих моделей, реализуйте и запустите функцию `evaluate`. Эта функция должна брать на вход модель и даталоадер с валидационными данными и возврашать accuracy, посчитанную на этом датасете."
   ]
  },
  {
   "cell_type": "code",
   "execution_count": 17,
   "metadata": {
    "cell_id": 14,
    "execution": {
     "iopub.execute_input": "2021-11-21T19:14:30.346034Z",
     "iopub.status.busy": "2021-11-21T19:14:30.344833Z",
     "iopub.status.idle": "2021-11-21T19:14:30.356814Z",
     "shell.execute_reply": "2021-11-21T19:14:30.355471Z",
     "shell.execute_reply.started": "2021-11-21T19:14:30.345780Z"
    },
    "id": "3TGH0EFalRVb"
   },
   "outputs": [
    {
     "name": "stdout",
     "output_type": "stream",
     "text": [
      "Полученная accuracy: 0.7326\n",
      "Оценка за это задание составит 7.753333333333336 баллов\n"
     ]
    }
   ],
   "source": [
    "print('Полученная accuracy:', accuracy)\n",
    "print(\"Оценка за это задание составит {} баллов\".format(min(10, 10 * (accuracy - 0.5) / 0.3)))"
   ]
  },
  {
   "attachments": {},
   "cell_type": "markdown",
   "metadata": {
    "cell_id": 15,
    "id": "pT8vfPSolRVb"
   },
   "source": [
    "### Отчёт об экспериментах \n",
    "\n",
    "Для этого задания я использовала предобученную модель ResNet18 и во многом следовала семинарской тетрадке (функции fit/validate, например, взяты оттуда и незначительно имзенены). \n",
    "\n",
    "Я не фиксировала точные значения качества модели в зависимости от изменений (типа после добавления новых аугментаций или изменений параметров) и часто орианетировалась на изменение качества на первых эпохах (для экономии времени), поэтому эксперименты опишу в общем виде (и возможно не в порядке проведения).\n",
    "\n",
    "Сначала (при первых запусках на полном датасете с GPU) я использовала Resnet18 с заменой линейного слоя, обучала с аугемнтированным датасетом (гориз/верт отражение, вращение - мне показались более-менее \"классическими\") на 10 эпохах с оптимизатором Адам и без шедулера. Сделала ресайз и нормализацию, рекомендованные для ImageNet (https://pytorch.org/vision/stable/models.html). Обучение делала только на последнем слое, качество больше 0.55 не росло.\n",
    "\n",
    "Сильно повысило качество решение дообучать все слои вместо одного - уже около 0.64-0.65 (также поменяла предпоследний слой, подсмотрела вот тут: https://github.com/tjmoon0104/Tiny-ImageNet-Classifier), но появилась новая проблема - качество на валидации выходило на плато 64-65 очень рано, уже где-то на третьей эпохе. Для предотвращения переобучения попробовала поменять аумгентации (о возможных комбинациях агугментаций, которые могут приводить к переобучению, вычитала тут: https://towardsdatascience.com/balancing-the-regularization-effect-of-data-augmentation-eb551be48374). Оставила только горизонательное отражение, качество стало лучше (поэтому увеличила еще вероятность отражения до 0.75, оставила так). Вертикальное больше не использовала (оказалось, что оно сильно мне портило каечство на валидации). Попробовала добавить к композиции вращение, поэкспериментировала с разными углами, лучше всего работал поворот на плюс-минус 10 градусов (улучшал качество на тысячные, что лучше чем ничего). Также добавила шедулер, но не уверена что он что-то улучшал (не помню). В какой-то момент я поменяла значения среднего и ст. откл. для нормализации картинок, опять же ориентируясь на этот гитхаб:  https://github.com/tjmoon0104/Tiny-ImageNet-Classifier (вроде как незначительно улучшало качество). После всех этих махинаций у меня получалось дойти до качества 0.71, но его рост на валидации был очень нестабильным.\n",
    "\n",
    "Для того, чтобы сделать рост качества более стабильным, думала поэкспериментировать со значением learning rate в оптимизаторе, но в чате потока как раз случилось обсуждение оптимизаторов (кто-то сказал, что Адам плохо работает -???). Решила проверить SGD, и с ним мое качество поднялось до 0.73 на 8 эпохе. Сохранять лучшую модель я не научилась, поэтому просто сократила обучение до 8 эпох, мой финальный результат тут."
   ]
  },
  {
   "cell_type": "code",
   "execution_count": null,
   "metadata": {},
   "outputs": [],
   "source": []
  }
 ],
 "metadata": {
  "kernelspec": {
   "display_name": "Python 3",
   "language": "python",
   "name": "python3"
  },
  "language_info": {
   "codemirror_mode": {
    "name": "ipython",
    "version": 3
   },
   "file_extension": ".py",
   "mimetype": "text/x-python",
   "name": "python",
   "nbconvert_exporter": "python",
   "pygments_lexer": "ipython3",
   "version": "3.8.5"
  }
 },
 "nbformat": 4,
 "nbformat_minor": 4
}
